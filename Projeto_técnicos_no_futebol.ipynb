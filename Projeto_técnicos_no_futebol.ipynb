{
  "cells": [
    {
      "cell_type": "markdown",
      "id": "1d4c4103",
      "metadata": {
        "id": "1d4c4103"
      },
      "source": [
        "# Estatística no futebol\n",
        "\n",
        "### A duração de um técnico, no futebol, influencia na posição final do campeonato?\n",
        "\n"
      ]
    },
    {
      "cell_type": "markdown",
      "id": "48a792cf",
      "metadata": {
        "id": "48a792cf"
      },
      "source": []
    },
    {
      "cell_type": "markdown",
      "id": "5ed5251f",
      "metadata": {
        "id": "5ed5251f"
      },
      "source": [
        "#### Descrição do problema\n",
        "\n",
        "Uma posição _volátil_, no futebol (tanto no Brasil quanto fora), é a posição de técnico. Uma prática comum é substituir o treinador após alguns resultados negativos. Naturalmente, um time que não troca o técnico não é garantia de sucesso no campeonato. Assim, surge a dúvida: será que, **em geral**, times com técnicos mais longevos ficam em uma posição melhor na tabela, no fim do campeonato?"
      ]
    },
    {
      "cell_type": "markdown",
      "id": "4aeb01f9",
      "metadata": {
        "id": "4aeb01f9"
      },
      "source": [
        "#### Dados\n",
        "\n",
        "Para _atacar_ esse problema, será disponibilizado um arquivo json com todos os dados do Campeonato Brasileiro de 2019. Para ler um arquivo json, basta importar o módulo 'pandas' com o comando:  ```import pandas as pd```. Para ler um arquivo json, utilize o método:  \n",
        "```dados = pd.read_json('nome_do_arquivo.json') ```"
      ]
    },
    {
      "cell_type": "markdown",
      "id": "96def08a",
      "metadata": {
        "id": "96def08a"
      },
      "source": [
        "Para acessar os valores, basta olhar os nomes presentes nas linhas e colunas. Por exemplo: dados[2][1]. Vale lembrar que os 'índices' podem ser strings também."
      ]
    },
    {
      "cell_type": "markdown",
      "id": "3b9a205e",
      "metadata": {
        "id": "3b9a205e"
      },
      "source": [
        "#### Resultado esperado\n",
        "\n",
        "Ao fim do projeto, deverá ter os dados da posição final do time e do tempo (em número de rodadas) que o técnico mais longevo ficou. Por exemplo, o técnico do 1º colocado ficou 32 rodadas, do 2º ficou 37, do 3º 29, assim por diante. Essas dados podem ser armazenados em uma estrutura de dados de sua escolha"
      ]
    },
    {
      "cell_type": "markdown",
      "id": "f8a68127",
      "metadata": {
        "id": "f8a68127"
      },
      "source": [
        "Com esses dados, utilizar o código abaixo para fazer um gráfico simples (x é a posição final e y o tempo do técnico mais longevo):\n"
      ]
    },
    {
      "cell_type": "markdown",
      "id": "1027662d",
      "metadata": {
        "id": "1027662d"
      },
      "source": [
        "#### Observação: Trabalho em grupo de, no mínimo, 5 pessoas e máximo, 8 pessoas."
      ]
    },
    {
      "cell_type": "markdown",
      "source": [
        "# Análise da Longevidade dos Técnicos no Campeonato Brasileiro de 2019"
      ],
      "metadata": {
        "id": "gQ7YnlJKXQkK"
      },
      "id": "gQ7YnlJKXQkK"
    },
    {
      "cell_type": "markdown",
      "source": [
        "\n",
        "\n",
        "Neste projeto utilizamos dados do Campeonato Brasileiro de 2019 para investigar a relação entre a longevidade dos técnicos e a posição final dos times na tabela.\n",
        "\n",
        "O objetivo era responder à pergunta: **Em geral, times com técnicos mais longevos ficam em uma posição melhor na tabela, no fim do campeonato?**\n",
        "\n",
        "1 - Para realizar essa análise, utilizamos um arquivo JSON contendo os dados do campeonato.\n",
        "\n",
        "2 - Utilizamos a biblioteca Pandas para ler o arquivo JSON e transformá-lo em um DataFrame. Em seguida, percorremos as rodadas e partidas do campeonato para calcular a pontuação de cada time. Armazenamos o número de rodadas em que cada técnico permaneceu no cargo para cada time.\n",
        "\n",
        "3 - Criamos um dicionário chamado `soma_rodadas`, onde a chave era o nome do time e o valor era outro dicionário contendo o nome do técnico e o número de rodadas em que ele ficou no cargo.\n",
        "\n",
        "**Com base nesses dados, pudemos responder à pergunta proposta. A seguir, apresentamos os resultados obtidos:**\n",
        "\n",
        "- **Classificação dos Times**: Imprimimos a classificação final dos times, ordenados pela pontuação. Essa classificação nos permite visualizar quais times obtiveram melhor desempenho no campeonato.\n",
        "\n",
        "- **Dicionário Ordenado de Técnico e Rodadas Jogadas**: Apresentamos um dicionário ordenado dos técnicos e o número de rodadas jogadas por cada um. Isso nos permite identificar o técnico que permaneceu por mais tempo no cargo em cada time.\n",
        "\n",
        "- **Gráfico de Dispersão**: Construímos um gráfico de dispersão que relaciona a posição do time na classificação com o tempo do técnico mais longevo. Cada ponto no gráfico representa um time, onde o eixo x representa a posição do time na classificação e o eixo y representa o número de rodadas em que o técnico  mais longevo permaneceu no cargo. Esse gráfico nos ajuda a visualizar se existe uma tendência entre a longevidade do técnico e a posição final do time.\n",
        "\n",
        "Após a análise dos resultados, podemos fazer algumas observações:\n",
        "\n",
        "- Não há uma relação direta entre a longevidade dos técnicos e a posição final dos times na tabela. Existem casos em que times com técnicos mais longevos obtiveram um bom desempenho e ficaram em posições altas, enquanto outros times com técnicos menos longevos também alcançaram boas posições.\n",
        "\n",
        "- A classificação final dos times reflete mais o desempenho das equipes como um todo do que a longevidade dos técnicos. Outros fatores, como a qualidade do elenco, estratégias táticas, lesões de jogadores e outros aspectos, também influenciam no resultado final.\n",
        "\n",
        "- O gráfico de dispersão nos mostra que não há uma tendência clara entre a posição do time e o tempo do treinador mais longevo. Os pontos estão dispersos ao longo do gráfico, indicando que não há uma relação linear entre essas variáveis.\n",
        "\n"
      ],
      "metadata": {
        "id": "IMB8C4UzVjM1"
      },
      "id": "IMB8C4UzVjM1"
    },
    {
      "cell_type": "markdown",
      "source": [
        " Nome: Giorggia Talynska Malheiros\n",
        "\n",
        " Nome: Helouise Dayane Dos Santos Silva\n",
        "\n",
        " Nome: Rafael Assis Esteves Dos Santos\n",
        "\n",
        " Nome: Patricia Adania De Oliveira\n",
        "\n",
        " Nome: Vanderlândio Zeferino Da Rocha\n",
        "\n",
        " Nome: Juliana Lima\n",
        "\n",
        " Nome: Leonardo Luiz"
      ],
      "metadata": {
        "id": "Ofx08Ej3l5Om"
      },
      "id": "Ofx08Ej3l5Om"
    },
    {
      "cell_type": "code",
      "execution_count": null,
      "id": "f390935f",
      "metadata": {
        "id": "f390935f",
        "colab": {
          "base_uri": "https://localhost:8080/"
        },
        "outputId": "cfaff5aa-bac1-4a69-b053-60b6bd647c58"
      },
      "outputs": [
        {
          "output_type": "stream",
          "name": "stdout",
          "text": [
            "Classificação dos Times:\n",
            "1. Flamengo: 90 pontos\n",
            "2. Santos: 74 pontos\n",
            "3. Palmeiras: 74 pontos\n",
            "4. Grêmio: 65 pontos\n",
            "5. Athletico-PR: 64 pontos\n",
            "6. São Paulo: 63 pontos\n",
            "7. Internacional: 57 pontos\n",
            "8. Corinthians: 56 pontos\n",
            "9. Fortaleza: 53 pontos\n",
            "10. Goiás: 52 pontos\n",
            "11. Bahia: 49 pontos\n",
            "12. Vasco da Gama: 49 pontos\n",
            "13. Atlético-MG: 48 pontos\n",
            "14. Fluminense: 46 pontos\n",
            "15. Botafogo: 43 pontos\n",
            "16. Ceará SC: 39 pontos\n",
            "17. Cruzeiro: 36 pontos\n",
            "18. Chapecoense: 32 pontos\n",
            "19. CSA: 32 pontos\n",
            "20. Avaí: 20 pontos\n"
          ]
        }
      ],
      "source": [
        "import pandas as pd\n",
        "\n",
        "# Leitura do arquivo JSON\n",
        "dados = pd.read_json('brasileirao-2019.json')\n",
        "\n",
        "# Dicionário para armazenar a pontuação de cada time\n",
        "pontuacao = {}\n",
        "\n",
        "# Iteração sobre as rodadas e partidas\n",
        "for rodada, partidas in dados.items():\n",
        "    for partida in partidas:\n",
        "        time_casa = partida['clubs']['home']\n",
        "        time_fora = partida['clubs']['away']\n",
        "        gols_casa = int(partida['goals']['home'])\n",
        "        gols_fora = int(partida['goals']['away'])\n",
        "\n",
        "        if gols_casa > gols_fora:\n",
        "            pontuacao[time_casa] = pontuacao.get(time_casa, 0) + 3\n",
        "        elif gols_casa < gols_fora:\n",
        "            pontuacao[time_fora] = pontuacao.get(time_fora, 0) + 3\n",
        "        else:\n",
        "            pontuacao[time_casa] = pontuacao.get(time_casa, 0) + 1\n",
        "            pontuacao[time_fora] = pontuacao.get(time_fora, 0) + 1\n",
        "\n",
        "# Ordenação dos times por pontuação\n",
        "times_ordenados = sorted(pontuacao.items(), key=lambda x: x[1], reverse=True)\n",
        "\n",
        "# Impressão dos resultados\n",
        "print(\"Classificação dos Times:\")\n",
        "for posicao, (time, pontos) in enumerate(times_ordenados, start=1):\n",
        "    print(f\"{posicao}. {time}: {pontos} pontos\")\n",
        "\n",
        "\n",
        "        # Atribuição de pontos\n"
      ]
    },
    {
      "cell_type": "code",
      "execution_count": null,
      "id": "97610010",
      "metadata": {
        "id": "97610010",
        "colab": {
          "base_uri": "https://localhost:8080/"
        },
        "outputId": "38f748d7-f9d7-4ae9-f82f-67697d6346c6"
      },
      "outputs": [
        {
          "output_type": "stream",
          "name": "stdout",
          "text": [
            "Dicionário Ordenado de Treinadores e Rodadas Jogadas:\n",
            "Time: Grêmio, Treinador: Renato Gaúcho, Rodadas: 38\n",
            "Time: Santos, Treinador: J. Sampaoli Moya, Rodadas: 38\n",
            "Time: Bahia, Treinador: R. Machado Marques, Rodadas: 38\n",
            "Time: Vasco da Gama, Treinador: V. Luxemburgo da Silva, Rodadas: 34\n",
            "Time: Corinthians, Treinador: F. Carille, Rodadas: 30\n",
            "Time: Athletico-PR, Treinador: T. Retzalff Nunes, Rodadas: 30\n",
            "Time: Fortaleza, Treinador: R. Ceni, Rodadas: 29\n",
            "Time: Flamengo, Treinador: J. Pinheiro de Jesus, Rodadas: 28\n",
            "Time: CSA, Treinador: A. Fucks, Rodadas: 26\n",
            "Time: Atlético-MG, Treinador: R. Marques Santana, Rodadas: 25\n",
            "Time: Goiás, Treinador: N. da Silveira Júnior, Rodadas: 25\n",
            "Time: Internacional, Treinador: O. Hellmann, Rodadas: 24\n",
            "Time: Botafogo, Treinador: E. de Souza Barroca, Rodadas: 23\n",
            "Time: Ceará SC, Treinador: E. Alves Moreira, Rodadas: 22\n",
            "Time: São Paulo, Treinador: A. Stival, Rodadas: 21\n",
            "Time: Palmeiras, Treinador: L. Venker de Menezes, Rodadas: 20\n",
            "Time: Chapecoense, Treinador: M. dos Santos Gonçalves, Rodadas: 19\n",
            "Time: Fluminense, Treinador: M. de Oliveira, Rodadas: 17\n",
            "Time: Avaí, Treinador: A. Valentim do Carmo Neto, Rodadas: 15\n",
            "Time: Cruzeiro, Treinador: A. da Silva Braga, Rodadas: 14\n"
          ]
        }
      ],
      "source": [
        "soma_rodadas = {}\n",
        "\n",
        "for rodada_num, jogos in dados.items():\n",
        "    for jogo in jogos:\n",
        "\n",
        "        time_casa = jogo['clubs']['home']\n",
        "        time_fora = jogo['clubs']['away']\n",
        "        treinador_casa = jogo['coach']['home']\n",
        "        treinador_fora = jogo['coach']['away']\n",
        "\n",
        "        if time_casa not in soma_rodadas:\n",
        "            soma_rodadas[time_casa] = {}\n",
        "        if treinador_casa not in soma_rodadas[time_casa]:\n",
        "            soma_rodadas[time_casa][treinador_casa] = 1\n",
        "        else:\n",
        "            soma_rodadas[time_casa][treinador_casa] += 1\n",
        "\n",
        "        if time_fora not in soma_rodadas:\n",
        "            soma_rodadas[time_fora] = {}\n",
        "        if treinador_fora not in soma_rodadas[time_fora]:\n",
        "            soma_rodadas[time_fora][treinador_fora] = 1\n",
        "        else:\n",
        "            soma_rodadas[time_fora][treinador_fora] += 1\n",
        "\n",
        "\n",
        "# Criar uma lista de treinadores ordenadas decrescentemente pelo número de rodadas jogadas\n",
        "treinadores_rodadas_ordenado = sorted(\n",
        "    ((time, max(treinadores, key=treinadores.get), treinadores[max(treinadores, key=treinadores.get)]) for time, treinadores in soma_rodadas.items()),\n",
        "    key=lambda x: x[2], reverse=True\n",
        ")\n",
        "# Imprimir os resultados\n",
        "print(\"Dicionário Ordenado de Treinadores e Rodadas Jogadas:\")\n",
        "for time, treinador, rodadas in treinadores_rodadas_ordenado:\n",
        "    print(f\"Time: {time}, Treinador: {treinador}, Rodadas: {rodadas}\")\n"
      ]
    },
    {
      "cell_type": "code",
      "source": [
        "#Gráfico - Classificação dos times\n",
        "import plotly.express as px\n",
        "\n",
        "dados = pd.read_json('brasileirao-2019.json')\n",
        "\n",
        "\n",
        "pontuacao = {}\n",
        "\n",
        "for rodada, partidas in dados.items():\n",
        "    for partida in partidas:\n",
        "        time_casa = partida['clubs']['home']\n",
        "        time_fora = partida['clubs']['away']\n",
        "        gols_casa = int(partida['goals']['home'])\n",
        "        gols_fora = int(partida['goals']['away'])\n",
        "\n",
        "\n",
        "        if time_casa not in pontuacao:\n",
        "            pontuacao[time_casa] = {'pontos': 0, 'classificacao': 0, 'tecnico': None, 'rodadas': 0}\n",
        "        if time_fora not in pontuacao:\n",
        "            pontuacao[time_fora] = {'pontos': 0, 'classificacao': 0, 'tecnico': None, 'rodadas': 0}\n",
        "\n",
        "\n",
        "        if gols_casa > gols_fora:\n",
        "            pontuacao[time_casa]['pontos'] += 3\n",
        "        elif gols_casa < gols_fora:\n",
        "            pontuacao[time_fora]['pontos'] += 3\n",
        "        else:\n",
        "            pontuacao[time_casa]['pontos'] += 1\n",
        "            pontuacao[time_fora]['pontos'] += 1\n",
        "\n",
        "\n",
        "        tecnico_casa = partida['coach']['home']\n",
        "        tecnico_fora = partida['coach']['away']\n",
        "\n",
        "\n",
        "        if pontuacao[time_casa]['tecnico'] != tecnico_casa:\n",
        "            pontuacao[time_casa]['rodadas'] += 1\n",
        "            pontuacao[time_casa]['tecnico'] = tecnico_casa\n",
        "\n",
        "        if pontuacao[time_fora]['tecnico'] != tecnico_fora:\n",
        "            pontuacao[time_fora]['rodadas'] += 1\n",
        "            pontuacao[time_fora]['tecnico'] = tecnico_fora\n",
        "\n",
        "\n",
        "for posicao, (time, dados_time) in enumerate(times_ordenados, start=1):\n",
        "    pontuacao[time]['classificacao'] = posicao\n",
        "\n",
        "\n",
        "df = pd.DataFrame({\n",
        "    'Times': [time for time, _ in times_ordenados],\n",
        "    'Pontuação': [dados['pontos'] for _, dados in times_ordenados],\n",
        "    'Classificação': [dados['classificacao'] for _, dados in times_ordenados],\n",
        "    'Técnico': [dados['tecnico'] for _, dados in times_ordenados],\n",
        "    'Rodadas com Técnico': [dados['rodadas'] for _, dados in times_ordenados]\n",
        "})\n",
        "\n",
        "\n",
        "fig = px.bar(df, x='Times', y='Pontuação', color='Classificação', text='Times',\n",
        "             labels={'Pontuação': 'Pontuação', 'Times': 'Times'},\n",
        "             title='Classificação dos Times - Campeonato Brasileiro 2019',\n",
        "             height=600)\n",
        "\n",
        "\n",
        "fig.update_traces(hovertemplate='<b>%{text}</b><br>Pontuação: %{y}<br>Classificação: %{color}' +\n",
        "                  '<br>Técnico: %{customdata[0]}<br>Rodadas com Técnico: %{customdata[1]}',\n",
        "                  customdata=df[['Técnico', 'Rodadas com Técnico']].values)\n",
        "\n",
        "\n",
        "fig.update_layout(\n",
        "    xaxis_title='Times',\n",
        "    yaxis_title='Pontuação',\n",
        "    legend_title='Classificação',\n",
        "    xaxis_tickangle=45,\n",
        "    showlegend=True\n",
        ")\n",
        "\n",
        "\n",
        "fig.show()\n",
        "\n"
      ],
      "metadata": {
        "colab": {
          "base_uri": "https://localhost:8080/",
          "height": 617
        },
        "id": "uSw5Lp25gzCI",
        "outputId": "41b517e8-df92-4397-808c-dae72444d088"
      },
      "id": "uSw5Lp25gzCI",
      "execution_count": null,
      "outputs": [
        {
          "output_type": "display_data",
          "data": {
            "text/html": [
              "<html>\n",
              "<head><meta charset=\"utf-8\" /></head>\n",
              "<body>\n",
              "    <div>            <script src=\"https://cdnjs.cloudflare.com/ajax/libs/mathjax/2.7.5/MathJax.js?config=TeX-AMS-MML_SVG\"></script><script type=\"text/javascript\">if (window.MathJax && window.MathJax.Hub && window.MathJax.Hub.Config) {window.MathJax.Hub.Config({SVG: {font: \"STIX-Web\"}});}</script>                <script type=\"text/javascript\">window.PlotlyConfig = {MathJaxConfig: 'local'};</script>\n",
              "        <script charset=\"utf-8\" src=\"https://cdn.plot.ly/plotly-2.24.1.min.js\"></script>                <div id=\"11e700a5-6d4e-4a37-ac2b-451c491b5ca5\" class=\"plotly-graph-div\" style=\"height:600px; width:100%;\"></div>            <script type=\"text/javascript\">                                    window.PLOTLYENV=window.PLOTLYENV || {};                                    if (document.getElementById(\"11e700a5-6d4e-4a37-ac2b-451c491b5ca5\")) {                    Plotly.newPlot(                        \"11e700a5-6d4e-4a37-ac2b-451c491b5ca5\",                        [{\"alignmentgroup\":\"True\",\"hovertemplate\":\"\\u003cb\\u003e%{text}\\u003c\\u002fb\\u003e\\u003cbr\\u003ePontua\\u00e7\\u00e3o: %{y}\\u003cbr\\u003eClassifica\\u00e7\\u00e3o: %{color}\\u003cbr\\u003eT\\u00e9cnico: %{customdata[0]}\\u003cbr\\u003eRodadas com T\\u00e9cnico: %{customdata[1]}\",\"legendgroup\":\"\",\"marker\":{\"color\":[1,2,3,4,5,6,7,8,9,10,11,12,13,14,15,16,17,18,19,20],\"coloraxis\":\"coloraxis\",\"pattern\":{\"shape\":\"\"}},\"name\":\"\",\"offsetgroup\":\"\",\"orientation\":\"v\",\"showlegend\":false,\"text\":[\"Flamengo\",\"Santos\",\"Palmeiras\",\"Gr\\u00eamio\",\"Athletico-PR\",\"S\\u00e3o Paulo\",\"Internacional\",\"Corinthians\",\"Fortaleza\",\"Goi\\u00e1s\",\"Vasco da Gama\",\"Bahia\",\"Atl\\u00e9tico-MG\",\"Fluminense\",\"Botafogo\",\"Cear\\u00e1 SC\",\"Cruzeiro\",\"Chapecoense\",\"CSA\",\"Ava\\u00ed\"],\"textposition\":\"auto\",\"x\":[\"Flamengo\",\"Santos\",\"Palmeiras\",\"Gr\\u00eamio\",\"Athletico-PR\",\"S\\u00e3o Paulo\",\"Internacional\",\"Corinthians\",\"Fortaleza\",\"Goi\\u00e1s\",\"Vasco da Gama\",\"Bahia\",\"Atl\\u00e9tico-MG\",\"Fluminense\",\"Botafogo\",\"Cear\\u00e1 SC\",\"Cruzeiro\",\"Chapecoense\",\"CSA\",\"Ava\\u00ed\"],\"xaxis\":\"x\",\"y\":[90,74,74,65,64,63,57,56,53,52,49,49,48,46,43,39,36,32,32,20],\"yaxis\":\"y\",\"type\":\"bar\",\"customdata\":[[\"J. Pinheiro de Jesus\",5],[\"J. Sampaoli Moya\",1],[\"A. Lopes dos Santos\",5],[\"Renato Ga\\u00facho\",1],[\"E. de Barros\",2],[\"F. Diniz Silva\",4],[\"J. Mannarino\",3],[\"Coelho\",2],[\"R. Ceni\",6],[\"N. da Silveira J\\u00fanior\",4],[\"V. Luxemburgo da Silva\",2],[\"R. Machado Marques\",1],[\"V. Carmo Mancini\",2],[\"M. de Oliveira\",3],[\"A. Valentim do Carmo Neto\",3],[\"A. Fucks\",3],[\"A. Batista\",5],[\"M. dos Santos Gon\\u00e7alves\",3],[\"G. Santos Vasconcelo\",3],[\"E. Spinass\\u00e9 Camillato\",3]]}],                        {\"template\":{\"data\":{\"histogram2dcontour\":[{\"type\":\"histogram2dcontour\",\"colorbar\":{\"outlinewidth\":0,\"ticks\":\"\"},\"colorscale\":[[0.0,\"#0d0887\"],[0.1111111111111111,\"#46039f\"],[0.2222222222222222,\"#7201a8\"],[0.3333333333333333,\"#9c179e\"],[0.4444444444444444,\"#bd3786\"],[0.5555555555555556,\"#d8576b\"],[0.6666666666666666,\"#ed7953\"],[0.7777777777777778,\"#fb9f3a\"],[0.8888888888888888,\"#fdca26\"],[1.0,\"#f0f921\"]]}],\"choropleth\":[{\"type\":\"choropleth\",\"colorbar\":{\"outlinewidth\":0,\"ticks\":\"\"}}],\"histogram2d\":[{\"type\":\"histogram2d\",\"colorbar\":{\"outlinewidth\":0,\"ticks\":\"\"},\"colorscale\":[[0.0,\"#0d0887\"],[0.1111111111111111,\"#46039f\"],[0.2222222222222222,\"#7201a8\"],[0.3333333333333333,\"#9c179e\"],[0.4444444444444444,\"#bd3786\"],[0.5555555555555556,\"#d8576b\"],[0.6666666666666666,\"#ed7953\"],[0.7777777777777778,\"#fb9f3a\"],[0.8888888888888888,\"#fdca26\"],[1.0,\"#f0f921\"]]}],\"heatmap\":[{\"type\":\"heatmap\",\"colorbar\":{\"outlinewidth\":0,\"ticks\":\"\"},\"colorscale\":[[0.0,\"#0d0887\"],[0.1111111111111111,\"#46039f\"],[0.2222222222222222,\"#7201a8\"],[0.3333333333333333,\"#9c179e\"],[0.4444444444444444,\"#bd3786\"],[0.5555555555555556,\"#d8576b\"],[0.6666666666666666,\"#ed7953\"],[0.7777777777777778,\"#fb9f3a\"],[0.8888888888888888,\"#fdca26\"],[1.0,\"#f0f921\"]]}],\"heatmapgl\":[{\"type\":\"heatmapgl\",\"colorbar\":{\"outlinewidth\":0,\"ticks\":\"\"},\"colorscale\":[[0.0,\"#0d0887\"],[0.1111111111111111,\"#46039f\"],[0.2222222222222222,\"#7201a8\"],[0.3333333333333333,\"#9c179e\"],[0.4444444444444444,\"#bd3786\"],[0.5555555555555556,\"#d8576b\"],[0.6666666666666666,\"#ed7953\"],[0.7777777777777778,\"#fb9f3a\"],[0.8888888888888888,\"#fdca26\"],[1.0,\"#f0f921\"]]}],\"contourcarpet\":[{\"type\":\"contourcarpet\",\"colorbar\":{\"outlinewidth\":0,\"ticks\":\"\"}}],\"contour\":[{\"type\":\"contour\",\"colorbar\":{\"outlinewidth\":0,\"ticks\":\"\"},\"colorscale\":[[0.0,\"#0d0887\"],[0.1111111111111111,\"#46039f\"],[0.2222222222222222,\"#7201a8\"],[0.3333333333333333,\"#9c179e\"],[0.4444444444444444,\"#bd3786\"],[0.5555555555555556,\"#d8576b\"],[0.6666666666666666,\"#ed7953\"],[0.7777777777777778,\"#fb9f3a\"],[0.8888888888888888,\"#fdca26\"],[1.0,\"#f0f921\"]]}],\"surface\":[{\"type\":\"surface\",\"colorbar\":{\"outlinewidth\":0,\"ticks\":\"\"},\"colorscale\":[[0.0,\"#0d0887\"],[0.1111111111111111,\"#46039f\"],[0.2222222222222222,\"#7201a8\"],[0.3333333333333333,\"#9c179e\"],[0.4444444444444444,\"#bd3786\"],[0.5555555555555556,\"#d8576b\"],[0.6666666666666666,\"#ed7953\"],[0.7777777777777778,\"#fb9f3a\"],[0.8888888888888888,\"#fdca26\"],[1.0,\"#f0f921\"]]}],\"mesh3d\":[{\"type\":\"mesh3d\",\"colorbar\":{\"outlinewidth\":0,\"ticks\":\"\"}}],\"scatter\":[{\"fillpattern\":{\"fillmode\":\"overlay\",\"size\":10,\"solidity\":0.2},\"type\":\"scatter\"}],\"parcoords\":[{\"type\":\"parcoords\",\"line\":{\"colorbar\":{\"outlinewidth\":0,\"ticks\":\"\"}}}],\"scatterpolargl\":[{\"type\":\"scatterpolargl\",\"marker\":{\"colorbar\":{\"outlinewidth\":0,\"ticks\":\"\"}}}],\"bar\":[{\"error_x\":{\"color\":\"#2a3f5f\"},\"error_y\":{\"color\":\"#2a3f5f\"},\"marker\":{\"line\":{\"color\":\"#E5ECF6\",\"width\":0.5},\"pattern\":{\"fillmode\":\"overlay\",\"size\":10,\"solidity\":0.2}},\"type\":\"bar\"}],\"scattergeo\":[{\"type\":\"scattergeo\",\"marker\":{\"colorbar\":{\"outlinewidth\":0,\"ticks\":\"\"}}}],\"scatterpolar\":[{\"type\":\"scatterpolar\",\"marker\":{\"colorbar\":{\"outlinewidth\":0,\"ticks\":\"\"}}}],\"histogram\":[{\"marker\":{\"pattern\":{\"fillmode\":\"overlay\",\"size\":10,\"solidity\":0.2}},\"type\":\"histogram\"}],\"scattergl\":[{\"type\":\"scattergl\",\"marker\":{\"colorbar\":{\"outlinewidth\":0,\"ticks\":\"\"}}}],\"scatter3d\":[{\"type\":\"scatter3d\",\"line\":{\"colorbar\":{\"outlinewidth\":0,\"ticks\":\"\"}},\"marker\":{\"colorbar\":{\"outlinewidth\":0,\"ticks\":\"\"}}}],\"scattermapbox\":[{\"type\":\"scattermapbox\",\"marker\":{\"colorbar\":{\"outlinewidth\":0,\"ticks\":\"\"}}}],\"scatterternary\":[{\"type\":\"scatterternary\",\"marker\":{\"colorbar\":{\"outlinewidth\":0,\"ticks\":\"\"}}}],\"scattercarpet\":[{\"type\":\"scattercarpet\",\"marker\":{\"colorbar\":{\"outlinewidth\":0,\"ticks\":\"\"}}}],\"carpet\":[{\"aaxis\":{\"endlinecolor\":\"#2a3f5f\",\"gridcolor\":\"white\",\"linecolor\":\"white\",\"minorgridcolor\":\"white\",\"startlinecolor\":\"#2a3f5f\"},\"baxis\":{\"endlinecolor\":\"#2a3f5f\",\"gridcolor\":\"white\",\"linecolor\":\"white\",\"minorgridcolor\":\"white\",\"startlinecolor\":\"#2a3f5f\"},\"type\":\"carpet\"}],\"table\":[{\"cells\":{\"fill\":{\"color\":\"#EBF0F8\"},\"line\":{\"color\":\"white\"}},\"header\":{\"fill\":{\"color\":\"#C8D4E3\"},\"line\":{\"color\":\"white\"}},\"type\":\"table\"}],\"barpolar\":[{\"marker\":{\"line\":{\"color\":\"#E5ECF6\",\"width\":0.5},\"pattern\":{\"fillmode\":\"overlay\",\"size\":10,\"solidity\":0.2}},\"type\":\"barpolar\"}],\"pie\":[{\"automargin\":true,\"type\":\"pie\"}]},\"layout\":{\"autotypenumbers\":\"strict\",\"colorway\":[\"#636efa\",\"#EF553B\",\"#00cc96\",\"#ab63fa\",\"#FFA15A\",\"#19d3f3\",\"#FF6692\",\"#B6E880\",\"#FF97FF\",\"#FECB52\"],\"font\":{\"color\":\"#2a3f5f\"},\"hovermode\":\"closest\",\"hoverlabel\":{\"align\":\"left\"},\"paper_bgcolor\":\"white\",\"plot_bgcolor\":\"#E5ECF6\",\"polar\":{\"bgcolor\":\"#E5ECF6\",\"angularaxis\":{\"gridcolor\":\"white\",\"linecolor\":\"white\",\"ticks\":\"\"},\"radialaxis\":{\"gridcolor\":\"white\",\"linecolor\":\"white\",\"ticks\":\"\"}},\"ternary\":{\"bgcolor\":\"#E5ECF6\",\"aaxis\":{\"gridcolor\":\"white\",\"linecolor\":\"white\",\"ticks\":\"\"},\"baxis\":{\"gridcolor\":\"white\",\"linecolor\":\"white\",\"ticks\":\"\"},\"caxis\":{\"gridcolor\":\"white\",\"linecolor\":\"white\",\"ticks\":\"\"}},\"coloraxis\":{\"colorbar\":{\"outlinewidth\":0,\"ticks\":\"\"}},\"colorscale\":{\"sequential\":[[0.0,\"#0d0887\"],[0.1111111111111111,\"#46039f\"],[0.2222222222222222,\"#7201a8\"],[0.3333333333333333,\"#9c179e\"],[0.4444444444444444,\"#bd3786\"],[0.5555555555555556,\"#d8576b\"],[0.6666666666666666,\"#ed7953\"],[0.7777777777777778,\"#fb9f3a\"],[0.8888888888888888,\"#fdca26\"],[1.0,\"#f0f921\"]],\"sequentialminus\":[[0.0,\"#0d0887\"],[0.1111111111111111,\"#46039f\"],[0.2222222222222222,\"#7201a8\"],[0.3333333333333333,\"#9c179e\"],[0.4444444444444444,\"#bd3786\"],[0.5555555555555556,\"#d8576b\"],[0.6666666666666666,\"#ed7953\"],[0.7777777777777778,\"#fb9f3a\"],[0.8888888888888888,\"#fdca26\"],[1.0,\"#f0f921\"]],\"diverging\":[[0,\"#8e0152\"],[0.1,\"#c51b7d\"],[0.2,\"#de77ae\"],[0.3,\"#f1b6da\"],[0.4,\"#fde0ef\"],[0.5,\"#f7f7f7\"],[0.6,\"#e6f5d0\"],[0.7,\"#b8e186\"],[0.8,\"#7fbc41\"],[0.9,\"#4d9221\"],[1,\"#276419\"]]},\"xaxis\":{\"gridcolor\":\"white\",\"linecolor\":\"white\",\"ticks\":\"\",\"title\":{\"standoff\":15},\"zerolinecolor\":\"white\",\"automargin\":true,\"zerolinewidth\":2},\"yaxis\":{\"gridcolor\":\"white\",\"linecolor\":\"white\",\"ticks\":\"\",\"title\":{\"standoff\":15},\"zerolinecolor\":\"white\",\"automargin\":true,\"zerolinewidth\":2},\"scene\":{\"xaxis\":{\"backgroundcolor\":\"#E5ECF6\",\"gridcolor\":\"white\",\"linecolor\":\"white\",\"showbackground\":true,\"ticks\":\"\",\"zerolinecolor\":\"white\",\"gridwidth\":2},\"yaxis\":{\"backgroundcolor\":\"#E5ECF6\",\"gridcolor\":\"white\",\"linecolor\":\"white\",\"showbackground\":true,\"ticks\":\"\",\"zerolinecolor\":\"white\",\"gridwidth\":2},\"zaxis\":{\"backgroundcolor\":\"#E5ECF6\",\"gridcolor\":\"white\",\"linecolor\":\"white\",\"showbackground\":true,\"ticks\":\"\",\"zerolinecolor\":\"white\",\"gridwidth\":2}},\"shapedefaults\":{\"line\":{\"color\":\"#2a3f5f\"}},\"annotationdefaults\":{\"arrowcolor\":\"#2a3f5f\",\"arrowhead\":0,\"arrowwidth\":1},\"geo\":{\"bgcolor\":\"white\",\"landcolor\":\"#E5ECF6\",\"subunitcolor\":\"white\",\"showland\":true,\"showlakes\":true,\"lakecolor\":\"white\"},\"title\":{\"x\":0.05},\"mapbox\":{\"style\":\"light\"}}},\"xaxis\":{\"anchor\":\"y\",\"domain\":[0.0,1.0],\"title\":{\"text\":\"Times\"},\"tickangle\":45},\"yaxis\":{\"anchor\":\"x\",\"domain\":[0.0,1.0],\"title\":{\"text\":\"Pontua\\u00e7\\u00e3o\"}},\"coloraxis\":{\"colorbar\":{\"title\":{\"text\":\"Classifica\\u00e7\\u00e3o\"}},\"colorscale\":[[0.0,\"#0d0887\"],[0.1111111111111111,\"#46039f\"],[0.2222222222222222,\"#7201a8\"],[0.3333333333333333,\"#9c179e\"],[0.4444444444444444,\"#bd3786\"],[0.5555555555555556,\"#d8576b\"],[0.6666666666666666,\"#ed7953\"],[0.7777777777777778,\"#fb9f3a\"],[0.8888888888888888,\"#fdca26\"],[1.0,\"#f0f921\"]]},\"legend\":{\"tracegroupgap\":0,\"title\":{\"text\":\"Classifica\\u00e7\\u00e3o\"}},\"title\":{\"text\":\"Classifica\\u00e7\\u00e3o dos Times - Campeonato Brasileiro 2019\"},\"barmode\":\"relative\",\"height\":600,\"showlegend\":true},                        {\"responsive\": true}                    ).then(function(){\n",
              "                            \n",
              "var gd = document.getElementById('11e700a5-6d4e-4a37-ac2b-451c491b5ca5');\n",
              "var x = new MutationObserver(function (mutations, observer) {{\n",
              "        var display = window.getComputedStyle(gd).display;\n",
              "        if (!display || display === 'none') {{\n",
              "            console.log([gd, 'removed!']);\n",
              "            Plotly.purge(gd);\n",
              "            observer.disconnect();\n",
              "        }}\n",
              "}});\n",
              "\n",
              "// Listen for the removal of the full notebook cells\n",
              "var notebookContainer = gd.closest('#notebook-container');\n",
              "if (notebookContainer) {{\n",
              "    x.observe(notebookContainer, {childList: true});\n",
              "}}\n",
              "\n",
              "// Listen for the clearing of the current output cell\n",
              "var outputEl = gd.closest('.output');\n",
              "if (outputEl) {{\n",
              "    x.observe(outputEl, {childList: true});\n",
              "}}\n",
              "\n",
              "                        })                };                            </script>        </div>\n",
              "</body>\n",
              "</html>"
            ]
          },
          "metadata": {}
        }
      ]
    },
    {
      "cell_type": "code",
      "source": [
        "# Dicionário para armazenar a posição dos times na classificação\n",
        "posicao_times = {time: posicao for posicao, (time, _) in enumerate(times_ordenados, start=1)}\n",
        "\n",
        "# Criar uma lista de treinadores ordenadas decrescentemente pelo número de rodadas jogadas\n",
        "treinadores_rodadas_ordenado = sorted(\n",
        "    ((time, max(treinadores, key=treinadores.get), treinadores[max(treinadores, key=treinadores.get)]) for time, treinadores in soma_rodadas.items()),\n",
        "    key=lambda x: x[2], reverse=True\n",
        ")\n",
        "\n",
        "# Preparar os dados para o gráfico de dispersão\n",
        "posicoes = []\n",
        "rodadas_treinador_longevo = []\n",
        "for time, treinador, rodadas in treinadores_rodadas_ordenado:\n",
        "    posicoes.append(int(posicao_times[time]))  # Converter para inteiro\n",
        "    rodadas_treinador_longevo.append(rodadas)\n",
        "\n",
        "# Criar o gráfico de dispersão\n",
        "plt.scatter(posicoes, rodadas_treinador_longevo)\n",
        "plt.xlabel('Posição do Time na Classificação')\n",
        "plt.ylabel('Tempo do Técnico (Rodadas)')\n",
        "plt.title('Posição do Time X Tempo do Técnico\\n')\n",
        "\n",
        "# Definir os valores e rótulos do eixo x como inteiros\n",
        "plt.xticks(range(1, len(posicoes) + 1), range(1, len(posicoes) + 1))\n",
        "\n",
        "# Exibe os nomes dos técnicos e times\n",
        "for i, txt in enumerate(treinadores_rodadas_ordenado):\n",
        "    plt.annotate(f' {txt[0]}', (posicoes[i], rodadas_treinador_longevo[i]), xytext=(5, 0), textcoords='offset points')\n",
        "\n",
        "plt.show()"
      ],
      "metadata": {
        "id": "0ZIkWxsLBmff",
        "colab": {
          "base_uri": "https://localhost:8080/",
          "height": 493
        },
        "outputId": "3079e7b7-035a-4b4c-c31f-ab124d48cb58"
      },
      "id": "0ZIkWxsLBmff",
      "execution_count": null,
      "outputs": [
        {
          "output_type": "display_data",
          "data": {
            "text/plain": [
              "<Figure size 640x480 with 1 Axes>"
            ],
            "image/png": "[encoded data removed]"
          },
          "metadata": {}
        }
      ]
    }
  ],
  "metadata": {
    "kernelspec": {
      "display_name": "Python 3 (ipykernel)",
      "language": "python",
      "name": "python3"
    },
    "language_info": {
      "codemirror_mode": {
        "name": "ipython",
        "version": 3
      },
      "file_extension": ".py",
      "mimetype": "text/x-python",
      "name": "python",
      "nbconvert_exporter": "python",
      "pygments_lexer": "ipython3",
      "version": "3.9.18"
    },
    "colab": {
      "provenance": []
    }
  },
  "nbformat": 4,
  "nbformat_minor": 5
}